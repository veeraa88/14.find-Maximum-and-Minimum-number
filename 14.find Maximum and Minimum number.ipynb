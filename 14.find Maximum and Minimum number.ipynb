{
 "cells": [
  {
   "cell_type": "code",
   "execution_count": 1,
   "id": "f982fa6c-2363-4115-971c-3612835db83e",
   "metadata": {},
   "outputs": [
    {
     "name": "stdout",
     "output_type": "stream",
     "text": [
      "56\n"
     ]
    }
   ],
   "source": [
    "l=[3,4,5,2,5,6,3,4,56,7]\n",
    "max_val=l[0]\n",
    "for number in l:\n",
    "    if number > max_val:\n",
    "        max_val=number\n",
    "print(max_val)"
   ]
  },
  {
   "cell_type": "code",
   "execution_count": 8,
   "id": "6c32e31e-94e2-4f1b-a08e-19cd99af4a9d",
   "metadata": {},
   "outputs": [
    {
     "name": "stdin",
     "output_type": "stream",
     "text": [
      "Enter number separated by space: 23 45 57 687 98 756 453\n"
     ]
    },
    {
     "name": "stdout",
     "output_type": "stream",
     "text": [
      "756\n"
     ]
    }
   ],
   "source": [
    "num=input(\"Enter number separated by space:\")\n",
    "var= list(map(int, num.split()))\n",
    "max_val=var[0]\n",
    "for number in var:\n",
    "    if number > max_val:\n",
    "        max_val=number\n",
    "print(max_val)"
   ]
  },
  {
   "cell_type": "code",
   "execution_count": 9,
   "id": "57c17449-c0d8-4f8a-9d2c-cd7c7fefacd4",
   "metadata": {},
   "outputs": [
    {
     "name": "stdout",
     "output_type": "stream",
     "text": [
      "<class 'list'>\n"
     ]
    }
   ],
   "source": [
    "var= list(map(int, num.split()))\n",
    "print(type(var))"
   ]
  },
  {
   "cell_type": "code",
   "execution_count": 34,
   "id": "9041c53e-50ec-45cd-b333-79974adfa77d",
   "metadata": {},
   "outputs": [
    {
     "name": "stdout",
     "output_type": "stream",
     "text": [
      "1\n"
     ]
    }
   ],
   "source": [
    "list=[12,34,23,45,1,67,8,9,54,3,2]\n",
    "min=list[0]\n",
    "for number in list:\n",
    "    if number < min:\n",
    "        min=number\n",
    "print(min)"
   ]
  },
  {
   "cell_type": "code",
   "execution_count": null,
   "id": "b1fcd45e-631e-4f88-8222-15fff8c0fea3",
   "metadata": {},
   "outputs": [],
   "source": [
    "# explanation code"
   ]
  },
  {
   "cell_type": "code",
   "execution_count": 38,
   "id": "6f34f6f6-86a7-4218-a21c-ae371dd72f7b",
   "metadata": {},
   "outputs": [
    {
     "name": "stdout",
     "output_type": "stream",
     "text": [
      "starting max 12\n",
      "cheaking: 12\n",
      "cheaking: 12\n",
      "cheaking: 3\n",
      "cheaking: 45\n",
      "New max 45\n",
      "cheaking: 6\n",
      "cheaking: 7\n",
      "cheaking: 0\n",
      "cheaking: 1\n",
      "45\n"
     ]
    }
   ],
   "source": [
    "list=[12,12,3,45,6,7,0,1,]\n",
    "max=list[0]\n",
    "print(\"starting max\",max)\n",
    "for number in list:\n",
    "    print(\"cheaking:\",number)\n",
    "    if number > max:\n",
    "        print(\"New max\",number)\n",
    "        max=number\n",
    "print(max)"
   ]
  },
  {
   "cell_type": "code",
   "execution_count": null,
   "id": "1bc1048a-2838-4df9-a06d-97b3de1c55d9",
   "metadata": {},
   "outputs": [],
   "source": []
  }
 ],
 "metadata": {
  "kernelspec": {
   "display_name": "Python [conda env:base] *",
   "language": "python",
   "name": "conda-base-py"
  },
  "language_info": {
   "codemirror_mode": {
    "name": "ipython",
    "version": 3
   },
   "file_extension": ".py",
   "mimetype": "text/x-python",
   "name": "python",
   "nbconvert_exporter": "python",
   "pygments_lexer": "ipython3",
   "version": "3.12.7"
  }
 },
 "nbformat": 4,
 "nbformat_minor": 5
}
